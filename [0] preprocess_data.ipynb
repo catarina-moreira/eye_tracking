{
 "cells": [
  {
   "attachments": {},
   "cell_type": "markdown",
   "metadata": {},
   "source": [
    "# MIMIC-EYE 1.0 - An Eye-Tracking Data Analytics Toolkit for REFLACX and EYE GAZE"
   ]
  },
  {
   "cell_type": "code",
   "execution_count": 1,
   "metadata": {},
   "outputs": [],
   "source": [
    "import pandas as pd\n",
    "pd.set_option('display.max_columns', 500)\n",
    "\n",
    "import numpy as np\n",
    "import os\n",
    "import sys\n",
    "import shutil\n",
    "import pickle as pkl\n",
    "import matplotlib.pyplot as plt\n",
    "\n",
    "%matplotlib inline"
   ]
  },
  {
   "cell_type": "code",
   "execution_count": 2,
   "metadata": {},
   "outputs": [],
   "source": [
    "from mimic.Patient import Patient\n",
    "from mimic.Xray import Xray\n",
    "from MIMIC_EYE import MIMIC_EYE \n",
    "from Constants import Constants as c\n",
    "from data.groundtruth.BoundingBox import BoundingBox\n",
    "from data.groundtruth.Ellipse import Ellipse\n",
    "\n",
    "from util.mimic_data_processing import *"
   ]
  },
  {
   "cell_type": "code",
   "execution_count": 3,
   "metadata": {},
   "outputs": [],
   "source": [
    "# starting program\n",
    "mimic_eye = MIMIC_EYE()"
   ]
  },
  {
   "cell_type": "code",
   "execution_count": 4,
   "metadata": {},
   "outputs": [],
   "source": [
    "gaze_file = pd.read_csv( \"/Volumes/SD_DISK/eye_gaze.csv\")\n",
    "reflacx_metadata = pd.read_csv(\"/Volumes/SD_DISK/XAMI-MIMICv2.0/spreadsheets/REFLACX/metadata.csv\")"
   ]
  },
  {
   "cell_type": "code",
   "execution_count": 5,
   "metadata": {},
   "outputs": [],
   "source": [
    "c.CACHE = {\n",
    "\t\t\t\t\t\t\"REFLACX\" : 0,\t\t\t\t\t\t\t# counts how many patients are in REFLACX dataset\n",
    "\t\t\t\t\t\t\"EYE_GAZE\" : 0,\t\t\t\t\t\t\t# counts how many patients are in EYE GAZE dataset\n",
    "\t\t\t\t\t\t\"OVERLAP\" : [],\t\t\t\t\t\t\t# lists the patient ids that overlap both datasets\n",
    "\t\t\t\t\t\t\"PATIENTS\" : {},\t\t\t\t\t\t# dictionary containing all information about a single patient\n",
    "\t\t\t\t\t\t\"XRAY_TO_PATIENT\" \t: {},\t\t# dictionary mapping an XRayID to a PatientID\n",
    "\t\t\t\t\t\t\"XRAY_TO_DIAGNOSIS\" : {},\t\t# dictionary mapping an XRayID to a Diagnosis (Eye Gaze only)\n",
    "\t\t\t\t\t\t\"XRAY_TO_ABNORMALITY\" : {},\t# dictionary mapping an XRayID to an Abnormality (REFLACX only)\n",
    "\t}"
   ]
  },
  {
   "cell_type": "code",
   "execution_count": 6,
   "metadata": {},
   "outputs": [],
   "source": [
    "PATIENTS_DIC = {}\n",
    "XRAY_TO_PATIENT = {}\n",
    "XRAY_TO_DIAGNOSIS = {}\n",
    "XRAY_TO_FIXATIONS = {}\n",
    "XRAY_TO_GAZE = {}\n",
    "XRAY_TO_ABNORMALITY = {}"
   ]
  },
  {
   "cell_type": "code",
   "execution_count": 7,
   "metadata": {},
   "outputs": [],
   "source": [
    "# check which column (\"Normal\", \"CHF\" or \"Pneumonia\") has a 1 in the eye_gaze_df dataframe\n",
    "def get_diagnosis(row):\n",
    "    diagnosis = \"Normal\"\n",
    "    if row.CHF == 1:\n",
    "        diagnosis = \"CHF\"\n",
    "    if row.pneumonia == 1:\n",
    "        diagnosis = \"Pneumonia\"\n",
    "    return diagnosis\n",
    "\n",
    "def getLabelsFromREFLACX(df, abnormalities):\n",
    "  \n",
    "  abnormalities_lst = []\n",
    "  for abn in range(0,len(abnormalities)):\n",
    "    if str(df[abn]) == \"True\":\n",
    "      abnormalities_lst.append(abnormalities[abn])\n",
    "  return abnormalities_lst\n"
   ]
  },
  {
   "cell_type": "code",
   "execution_count": 8,
   "metadata": {},
   "outputs": [],
   "source": [
    "eye_gaze_sheet = os.path.join(c.DATASET_PATH, \"spreadsheets\", 'EyeGaze', \"master_sheet_with_updated_stayId.csv\")\n",
    "eye_gaze_df = pd.read_csv( eye_gaze_sheet )\n",
    "\n",
    "# extract all patient keys from EYE GAZE dataset\n",
    "patient_keys = eye_gaze_df['patient_id'].values.tolist()\n",
    "patient_keys = list(set(patient_keys))\n",
    "for patient_key in patient_keys:\n",
    "\n",
    "    c.CACHE[\"EYE_GAZE\"] = c.CACHE[\"EYE_GAZE\"] + 1\n",
    "\n",
    "    patient_dirs = os.listdir(c.PATIENT_PATH(c.DATASET_PATH, patient_key))\n",
    "      \n",
    "    # performs an inner join between the eye_gaze dataframe and the MIMIC core data on the patient_id key\n",
    "    # this allows us to obtain all information about a patient\n",
    "    # if there are multiple records of the patient (due to several visits to the hospital), we record the \n",
    "    # patient's information of his last visit to the hospital\n",
    "    mimic_core = join_patients_mimic_core_data( patient_key, eye_gaze_df)\n",
    "\n",
    "    # create a new Patient\n",
    "    patient = Patient(mimic_core[\"patient_id\"].tail(1).values[0], \\\n",
    "                      mimic_core[\"gender_x\"].tail(1).values[0], \\\n",
    "                      mimic_core[\"language\"].tail(1).values[0], \\\n",
    "                      mimic_core[\"marital_status\"].tail(1).values[0],\\\n",
    "                      mimic_core[\"race\"].tail(1).values[0], \\\n",
    "                      mimic_core[\"anchor_age_x\"].tail(1).values[0], \\\n",
    "                      mimic_core[\"anchor_year\"].tail(1).values[0], \\\n",
    "                      mimic_core[\"dod\"].tail(1).values[0], \\\n",
    "                      mimic_core[\"anchor_year_group\"].tail(1).values[0], {}, {}  )\n",
    "\n",
    "    # get all CXR images associated to patient with patient_key\n",
    "    xray_lst = []\n",
    "    patient_df = eye_gaze_df[ eye_gaze_df[ \"patient_id\"] == patient_key ]\n",
    "    for row in patient_df.itertuples():\n",
    "      xray_id = row.dicom_id\n",
    "      study_id = \"s\"+str(row.study_id)\n",
    "      report = read_CXR_report( patient_key, study_id )\n",
    "      diagnosis = get_diagnosis(row)\n",
    "    \n",
    "      XRAY_TO_DIAGNOSIS[xray_id] = diagnosis\n",
    "\n",
    "      # a patient can have many imagaeology studies, and each study is composed of at least one XRay image\n",
    "      # one xray is given by an image file, a textual report with all the findings and diagnosis\n",
    "      # and a set of \n",
    "      xray_dicom_path = c.MIMIC_DICOM_PATH(c.DATASET_PATH, patient_key, study_id, xray_id)\n",
    "    \n",
    "      fixations_dict = {}\n",
    "      gaze_dict = {}\n",
    "      ell_annotation_dict = {}\n",
    "      bbox_lst = []\n",
    "      bboxes_df = pd.read_csv( c.EYE_GAZE_BBOX_PATH(c.DATASET_PATH, patient_key) )\n",
    "      for bbox in bboxes_df.itertuples():\n",
    "        bbox = BoundingBox(bbox.x1, bbox.x2, bbox.y1, bbox.y2, bbox.bbox_name)\n",
    "        bbox_lst.append( bbox )\n",
    "\n",
    "      cxr = Xray(xray_id, study_id, report, diagnosis, xray_dicom_path)\n",
    "      cxr.setBboxList(bbox_lst)\n",
    "      \n",
    "      fixations_dict[study_id + \"_\" + xray_id] = c.EYE_GAZE_FIXATIONS_PATH(c.DATASET_PATH, patient_key)\n",
    "      gaze_dict[study_id + \"_\" + xray_id] = c.EYE_GAZE_RAW_PATH(c.DATASET_PATH, patient_key)\n",
    "\n",
    "      if \"REFLACX\" in patient_dirs:\n",
    "\n",
    "        metadata = pd.read_csv(c.REFLACX_METADATA(c.DATASET_PATH, patient_key))\n",
    "        ref_row = metadata[ metadata[\"dicom_id\"] == xray_id ]\n",
    "\n",
    "        if len(ref_row) > 0:\n",
    "          c.CACHE[\"REFLACX\"] = c.CACHE[\"REFLACX\"] + 1\n",
    "          c.CACHE[\"OVERLAP\"].append(patient_key)\n",
    "   \n",
    "        ell_annotation_dict = cxr.getAbnormalityDict()\n",
    "        for ref in ref_row.itertuples():\n",
    "          refl_id = ref_row[\"id\"].values[0]\n",
    "          \n",
    "          temp = []\n",
    "          if refl_id in ell_annotation_dict.keys():\n",
    "            temp = ell_annotation_dict[refl_id]\n",
    "          ellipse_annotations = pd.read_csv(c.REFLACX_ELLIPSE_PATH(c.DATASET_PATH, patient_key, refl_id))\n",
    "          for ell in ellipse_annotations.itertuples():\n",
    "            ell_labels = getLabelsFromREFLACX(ell, ellipse_annotations.columns.to_list())\n",
    "            for ell_label in ell_labels:\n",
    "              temp.append(Ellipse(ell.xmin, ell.xmax, ell.ymin, ell.ymax, ell_label, ell.certainty ))\n",
    "          \n",
    "          ell_annotation_dict[refl_id] = temp\n",
    "          fixations_dict[refl_id + \"_\" + xray_id] = c.REFLACX_FIXATIONS_PATH(c.DATASET_PATH, patient_key, refl_id)\n",
    "          gaze_dict[refl_id + \"_\" + xray_id] = c.REFLACX_RAW_PATH(c.DATASET_PATH, patient_key, refl_id)\n",
    "        \n",
    "          cxr.setAbnormalityDict(ell_annotation_dict)\n",
    "\n",
    "\n",
    "          # moving gaze files to the XAMI-MIMIC folder\n",
    "          # source_gaze_file_path = c.REFLACX_GAZE_SOURCE_PATH(c.REFLACX_SOURCE, row.id)\n",
    "          # destinatination_gaze_folder_path = c.REFLACX_RAW_PATH(c.DATASET_PATH, row.subject_id, row.id)\n",
    "          # destinatination_gaze_folder_path.replace(\"gaze.csv\", \"\")\n",
    "          \n",
    "          # print(f\"Copying file from {source_gaze_file_path} to {destinatination_gaze_folder_path}\")\n",
    "          # shutil.copy(source_gaze_file_path, destinatination_gaze_folder_path )\n",
    "        \n",
    "      cxr.setFixationsDict(fixations_dict)\n",
    "      cxr.setGazeDict(gaze_dict)\n",
    "      \n",
    "\n",
    "      xray_lst.append( cxr )\n",
    "\n",
    "      # get all fixations associated to the current xray\n",
    "      # print(mimic_core[\"patient_id\"].tail(1).values[0])\n",
    "      # print(xray_id)\n",
    "      # gaze_df = gaze_file[ gaze_file[\"DICOM_ID\"] == xray_id ]\n",
    "      # gaze_df.to_csv( cxr.getEyegazeRawPathList()[0], index=False )\n",
    "      \n",
    "      # print(\"saving EYE GAZE gaze file to \" +  cxr.getEyegazeRawPathList()[0])\n",
    "\n",
    "\n",
    "      XRAY_TO_PATIENT[xray_id] = patient\n",
    "\n",
    "    # check if a patient key exists in PATIENTS_DIC\n",
    "    if patient_key in PATIENTS_DIC:\n",
    "      print(f\"Patient {patient_key} already exists in PATIENTS_DIC. Processing DICOM ID {xray_id}\")\n",
    "      print(f\"Current DICOM IDs\")\n",
    "      print(PATIENTS_DIC[patient_key].get_xray_ids())\n",
    "      print(\"---------------------------------------------------------------------\\n\")\n",
    "    \n",
    "    patient.setXray_lst(xray_lst)\n",
    "    PATIENTS_DIC[patient_key] = patient\n",
    "    \n",
    "c.CACHE[\"PATIENTS\"] = PATIENTS_DIC\n",
    "c.CACHE[\"XRAY_TO_PATIENT\"] = XRAY_TO_PATIENT\n",
    "c.CACHE[\"XRAY_TO_DIAGNOSIS\"] = XRAY_TO_DIAGNOSIS\n",
    "c.CACHE[\"OVERLAP\"] = list(set(c.CACHE[\"OVERLAP\"]))\n",
    "\n"
   ]
  },
  {
   "cell_type": "code",
   "execution_count": 30,
   "metadata": {},
   "outputs": [],
   "source": [
    "mimic_eye.save_state()"
   ]
  },
  {
   "cell_type": "code",
   "execution_count": 10,
   "metadata": {},
   "outputs": [
    {
     "data": {
      "text/plain": [
       "{'ID': 'f0256c5c-a68a55ba-51e7cc78-c6aa82eb-7d0eb5fe',\n",
       " 'study_id': 's51632471',\n",
       " 'report': 'FINAL REPORT\\nCHEST RADIOGRAPH PERFORMED ON ___\\n\\nCOMPARISON:  ___.\\n\\nCLINICAL HISTORY:  Shortness of breath and chest pain.\\n\\nFINDINGS:  PA and lateral views of the chest were obtained.  Midline\\nsternotomy wires and mediastinal clips are again noted. There is a background\\nof emphysema better appreciated on the prior radiographs. There has been\\ninterval development of pulmonary vascular congestion and mild pulmonary\\nedema.  Trace bilateral pleural effusions are present.  No pneumothorax.\\nCardiomediastinal silhouette is stable.  Bony structures are intact.\\n\\nIMPRESSION:  Emphysema with superimposed pulmonary edema.  Trace bilateral\\npleural effusions.\\n',\n",
       " 'diagnosis': 'CHF',\n",
       " 'dicom_path': '/Volumes/SD_DISK/XAMI-MIMICv2.0/patient_12629893/CXR-DICOM/s51632471/f0256c5c-a68a55ba-51e7cc78-c6aa82eb-7d0eb5fe.dcm',\n",
       " 'jpg_path': '/Volumes/SD_DISK/XAMI-MIMICv2.0/patient_12629893/CXR-JPG/s51632471/f0256c5c-a68a55ba-51e7cc78-c6aa82eb-7d0eb5fe.jpg',\n",
       " 'dims': (3056, 2544),\n",
       " 'bbox_lst': [<data.groundtruth.BoundingBox.BoundingBox at 0x12bd901f0>,\n",
       "  <data.groundtruth.BoundingBox.BoundingBox at 0x12bd90eb0>,\n",
       "  <data.groundtruth.BoundingBox.BoundingBox at 0x12bd90790>,\n",
       "  <data.groundtruth.BoundingBox.BoundingBox at 0x12bd90f70>,\n",
       "  <data.groundtruth.BoundingBox.BoundingBox at 0x12bd905e0>,\n",
       "  <data.groundtruth.BoundingBox.BoundingBox at 0x12bd904f0>,\n",
       "  <data.groundtruth.BoundingBox.BoundingBox at 0x12bc24940>,\n",
       "  <data.groundtruth.BoundingBox.BoundingBox at 0x12bc24a30>,\n",
       "  <data.groundtruth.BoundingBox.BoundingBox at 0x12bc249d0>,\n",
       "  <data.groundtruth.BoundingBox.BoundingBox at 0x12bec5b50>,\n",
       "  <data.groundtruth.BoundingBox.BoundingBox at 0x12bec54f0>,\n",
       "  <data.groundtruth.BoundingBox.BoundingBox at 0x12bec5e80>,\n",
       "  <data.groundtruth.BoundingBox.BoundingBox at 0x12bec5b20>,\n",
       "  <data.groundtruth.BoundingBox.BoundingBox at 0x12bec5bb0>,\n",
       "  <data.groundtruth.BoundingBox.BoundingBox at 0x12bec5f40>,\n",
       "  <data.groundtruth.BoundingBox.BoundingBox at 0x12bec5100>,\n",
       "  <data.groundtruth.BoundingBox.BoundingBox at 0x12bec5b80>],\n",
       " 'abnormality_dict': {},\n",
       " 'fixations_dict': {'s51632471_f0256c5c-a68a55ba-51e7cc78-c6aa82eb-7d0eb5fe': '/Volumes/SD_DISK/XAMI-MIMICv2.0/patient_12629893/EyeGaze/fixations.csv'},\n",
       " 'gaze_dict': {'s51632471_f0256c5c-a68a55ba-51e7cc78-c6aa82eb-7d0eb5fe': '/Volumes/SD_DISK/XAMI-MIMICv2.0/patient_12629893/EyeGaze/gaze.csv'}}"
      ]
     },
     "execution_count": 10,
     "metadata": {},
     "output_type": "execute_result"
    }
   ],
   "source": [
    "ref_patient = c.CACHE[\"PATIENTS\"][12629893]\n",
    "ref_xrays = ref_patient.getXray_lst()\n",
    "cxr = ref_xrays[0]\n",
    "cxr.getInfo()"
   ]
  },
  {
   "cell_type": "code",
   "execution_count": null,
   "metadata": {},
   "outputs": [],
   "source": []
  }
 ],
 "metadata": {
  "kernelspec": {
   "display_name": "pytorch",
   "language": "python",
   "name": "python3"
  },
  "language_info": {
   "codemirror_mode": {
    "name": "ipython",
    "version": 3
   },
   "file_extension": ".py",
   "mimetype": "text/x-python",
   "name": "python",
   "nbconvert_exporter": "python",
   "pygments_lexer": "ipython3",
   "version": "3.9.13"
  },
  "orig_nbformat": 4,
  "vscode": {
   "interpreter": {
    "hash": "df3a6b48546647546738807227c1f3471a3ed95cd2003ccd666cd4075892e836"
   }
  }
 },
 "nbformat": 4,
 "nbformat_minor": 2
}
